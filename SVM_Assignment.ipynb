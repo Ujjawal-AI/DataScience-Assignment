{
 "cells": [
  {
   "cell_type": "code",
   "execution_count": 58,
   "id": "8cdf649d-3f09-462b-bbba-45655eafc4e8",
   "metadata": {},
   "outputs": [],
   "source": [
    "import warnings\n",
    "import pandas as pd\n",
    "import numpy as np\n",
    "import seaborn as sns\n",
    "import matplotlib.pyplot as plt\n",
    "from sklearn.model_selection import train_test_split,GridSearchCV\n",
    "from sklearn.svm import SVC\n",
    "from sklearn.metrics import accuracy_score, classification_report, confusion_matrix\n",
    "from sklearn.preprocessing import StandardScaler"
   ]
  },
  {
   "cell_type": "code",
   "execution_count": null,
   "id": "78d2c6b8-fd17-4bfc-904c-98749258c904",
   "metadata": {},
   "outputs": [],
   "source": [
    "# Suppress the specific DataConversionWarning\n",
    "warnings.filterwarnings(\"ignore\")\n",
    "#Load Files\n",
    "df = pd.read_csv('mushroom.csv')"
   ]
  },
  {
   "cell_type": "code",
   "execution_count": null,
   "id": "497d8930-d5a0-436a-85bf-e2ad7cbc91fb",
   "metadata": {},
   "outputs": [],
   "source": [
    "df"
   ]
  },
  {
   "cell_type": "code",
   "execution_count": null,
   "id": "d818e5d7-c8bb-47ed-9cf2-6b0011c2f681",
   "metadata": {},
   "outputs": [],
   "source": [
    "df.isnull().sum()\n",
    "df[df.duplicated()]\n",
    "df.drop_duplicates(keep = 'first')\n",
    "df.isnull().sum()\n"
   ]
  },
  {
   "cell_type": "code",
   "execution_count": null,
   "id": "749fb3d6-9b64-4a45-8448-d099a6a263a2",
   "metadata": {},
   "outputs": [],
   "source": [
    "num_col = [i for i in df.columns if df[i].dtypes!='O']\n",
    "num_col\n"
   ]
  },
  {
   "cell_type": "code",
   "execution_count": null,
   "id": "e6d8e34b-4302-4651-b359-034f73813c9a",
   "metadata": {},
   "outputs": [],
   "source": [
    "for i in num_col:\n",
    "    df.boxplot(column = num_col, fontsize = 7)\n",
    "\n",
    "plt.show()"
   ]
  },
  {
   "cell_type": "code",
   "execution_count": null,
   "id": "2be06018-0327-4e77-9914-787df880dd41",
   "metadata": {},
   "outputs": [],
   "source": [
    "Q1 = df.quantile(0.25)\n",
    "Q3 = df.quantile(0.75)\n",
    "IQR = Q3 - Q1\n",
    "IQR"
   ]
  },
  {
   "cell_type": "code",
   "execution_count": null,
   "id": "38185397-8ef3-46c4-b78b-f2dba79f6b3a",
   "metadata": {},
   "outputs": [],
   "source": [
    "LB = Q1 - 1.5*IQR\n",
    "UB = Q3 + 1.5*IQR\n",
    "df_cleaned = df[~((df < LB) | (df > UB)).any(axis=1)]\n",
    "df_cleaned"
   ]
  },
  {
   "cell_type": "code",
   "execution_count": null,
   "id": "e1b1aceb-793b-43c0-a757-0616b866a6d9",
   "metadata": {},
   "outputs": [],
   "source": [
    "df_cleaned.describe()"
   ]
  },
  {
   "cell_type": "code",
   "execution_count": null,
   "id": "f812c9c4-19b5-4798-a9d5-90a31912697e",
   "metadata": {},
   "outputs": [],
   "source": [
    "for i in num_col:\n",
    "    df_cleaned.boxplot(column = num_col, fontsize = 7)\n",
    "\n",
    "plt.show()"
   ]
  },
  {
   "cell_type": "code",
   "execution_count": null,
   "id": "485fa172-82e8-4495-9dca-08754712ab97",
   "metadata": {},
   "outputs": [],
   "source": [
    "num_col = [i for i in df_cleaned.columns if df_cleaned[i].dtypes!='O']\n",
    "num_col"
   ]
  },
  {
   "cell_type": "code",
   "execution_count": null,
   "id": "d58fce9b-728d-4c8b-aa68-636138e33cb0",
   "metadata": {},
   "outputs": [],
   "source": [
    "df_cleaned[num_col].corr()"
   ]
  },
  {
   "cell_type": "code",
   "execution_count": null,
   "id": "f569926c-8f64-4456-b159-0fe2fe98d994",
   "metadata": {},
   "outputs": [],
   "source": [
    "sns.kdeplot( df_cleaned, shade=True, color='skyblue')\n",
    "plt.title('Mushroom Data density plot')\n",
    "plt.xlabel('Value')\n",
    "plt.ylabel('Density')\n",
    "plt.show()"
   ]
  },
  {
   "cell_type": "code",
   "execution_count": null,
   "id": "6c1264bb-a509-4e73-8690-e3f44b1c66d6",
   "metadata": {},
   "outputs": [],
   "source": [
    "Q1_test = df_cleaned.quantile(0.25)\n",
    "Q3_test = df_cleaned.quantile(0.75)\n",
    "IQR_test = Q3_test - Q1_test\n",
    "LB_test = Q1_test - 1.5*IQR_test\n",
    "UB_test = Q3_test + 1.5*IQR_test\n",
    "test_data = df_cleaned[~((df_cleaned < LB) | (df_cleaned > UB)).any(axis=1)]\n",
    "test_data"
   ]
  },
  {
   "cell_type": "code",
   "execution_count": null,
   "id": "69c5d358-89b2-4e1e-bde6-fd56d6a077c9",
   "metadata": {},
   "outputs": [],
   "source": [
    "from sklearn.preprocessing import LabelEncoder, OneHotEncoder"
   ]
  },
  {
   "cell_type": "code",
   "execution_count": null,
   "id": "afb0a770-4573-424e-ada4-71800fb4aab1",
   "metadata": {},
   "outputs": [],
   "source": [
    "lab_enc = LabelEncoder()"
   ]
  },
  {
   "cell_type": "code",
   "execution_count": null,
   "id": "0582fd49-e145-4623-af2b-7783fe80156c",
   "metadata": {},
   "outputs": [],
   "source": [
    "test_data['cap_shape']= lab_enc.fit_transform(test_data[['cap_shape']])\n",
    "test_data['cap_surface']= lab_enc.fit_transform(test_data[['cap_surface']])\n",
    "test_data['cap_color']= lab_enc.fit_transform(test_data[['cap_color']])\n",
    "test_data['bruises']= lab_enc.fit_transform(test_data[['bruises']])\n",
    "test_data['odor']= lab_enc.fit_transform(test_data[['odor']])\n",
    "test_data['gill_attachment']= lab_enc.fit_transform(test_data[['gill_attachment']])\n",
    "test_data['gill_spacing']= lab_enc.fit_transform(test_data[['gill_spacing']])\n",
    "test_data['gill_size']= lab_enc.fit_transform(test_data[['gill_size']])\n",
    "test_data['gill_color']= lab_enc.fit_transform(test_data[['gill_color']])\n",
    "test_data['veil_type']= lab_enc.fit_transform(test_data[['veil_type']])\n",
    "test_data['veil_color']= lab_enc.fit_transform(test_data[['veil_color']])\n",
    "test_data['ring_number']= lab_enc.fit_transform(test_data[['ring_number']])\n",
    "test_data['ring_type']= lab_enc.fit_transform(test_data[['ring_type']])\n",
    "test_data['spore_print_color']= lab_enc.fit_transform(test_data[['spore_print_color']])\n",
    "test_data['population']= lab_enc.fit_transform(test_data[['population']])\n",
    "test_data['habitat']= lab_enc.fit_transform(test_data[['habitat']])\n",
    "test_data['class']= lab_enc.fit_transform(test_data[['class']])\n",
    "test_data['stalk_shape']= lab_enc.fit_transform(test_data[['stalk_shape']])\n",
    "test_data['stalk_root']= lab_enc.fit_transform(test_data[['stalk_root']])\n",
    "test_data['stalk_surface_above_ring']= lab_enc.fit_transform(test_data[['stalk_surface_above_ring']])\n",
    "test_data['stalk_surface_below_ring']= lab_enc.fit_transform(test_data[['stalk_surface_below_ring']])\n",
    "test_data['stalk_color_above_ring']= lab_enc.fit_transform(test_data[['stalk_color_above_ring']])\n",
    "test_data['stalk_color_below_ring']= lab_enc.fit_transform(test_data[['stalk_color_below_ring']])\n",
    "import warnings\n",
    "warnings.filterwarnings('ignore')\n",
    "test_data"
   ]
  },
  {
   "cell_type": "code",
   "execution_count": null,
   "id": "44dd46b8-7284-463f-ade5-a295f7d28bd3",
   "metadata": {},
   "outputs": [],
   "source": [
    "#test_data.drop(columns=['Unnamed: 0'], inplace=True)"
   ]
  },
  {
   "cell_type": "code",
   "execution_count": null,
   "id": "060f621b-a05d-4468-9705-e9f3d9d10a24",
   "metadata": {},
   "outputs": [],
   "source": [
    "test_data"
   ]
  },
  {
   "cell_type": "code",
   "execution_count": null,
   "id": "46baebf3-471f-4fb2-bed0-ee405ab2f2b6",
   "metadata": {},
   "outputs": [],
   "source": [
    "target = test_data[['Unnamed: 0']]\n",
    "target"
   ]
  },
  {
   "cell_type": "code",
   "execution_count": null,
   "id": "e5be0814-f00c-4f47-a056-187da2ebba79",
   "metadata": {},
   "outputs": [],
   "source": [
    "feature = test_data.drop('Unnamed: 0', axis =1)\n",
    "feature"
   ]
  },
  {
   "cell_type": "code",
   "execution_count": null,
   "id": "58fb5fe2-2036-45ff-a180-8547bd92e939",
   "metadata": {},
   "outputs": [],
   "source": [
    "# Getting the number of rows and columns\n",
    "rows, columns = test_data.shape\n",
    "print(f\"Rows: {rows}, Columns: {columns}\")"
   ]
  },
  {
   "cell_type": "code",
   "execution_count": null,
   "id": "075545bd-04c9-4ea3-bedf-654df9b6b053",
   "metadata": {},
   "outputs": [],
   "source": [
    "# Split into training and testing sets (80% training, 20% testing)\n",
    "X_train, X_test, y_train, y_test = train_test_split(feature, target, test_size=0.2, random_state=42)"
   ]
  },
  {
   "cell_type": "code",
   "execution_count": null,
   "id": "00cf7fea-e76b-4dd9-9e91-42e68ec2edf5",
   "metadata": {},
   "outputs": [],
   "source": [
    "# Display the shapes of the splits\n",
    "print(\"Training Features (X_train):\", X_train.shape)\n",
    "print(\"Testing Features (X_test):\", X_test.shape)\n",
    "print(\"Training Target (y_train):\", y_train.shape)\n",
    "print(\"Testing Target (y_test):\", y_test.shape)"
   ]
  },
  {
   "cell_type": "code",
   "execution_count": null,
   "id": "4505eaca-0f31-4b72-b848-68b3c764fcde",
   "metadata": {},
   "outputs": [],
   "source": [
    "# Compute correlation matrix\n",
    "correlation_matrix = feature.corr()\n",
    "# Plot correlation heatmap\n",
    "plt.figure(figsize=(4, 2))\n",
    "sns.heatmap(correlation_matrix, annot=True, cmap='coolwarm', fmt='.2f')\n",
    "plt.title('Correlation Heatmap')\n",
    "plt.show()"
   ]
  },
  {
   "cell_type": "code",
   "execution_count": null,
   "id": "f53e4a40-f3ae-4870-99f3-f0a5d260b573",
   "metadata": {},
   "outputs": [],
   "source": [
    "scaler = StandardScaler()\n",
    "feature = scaler.fit_transform(feature)\n",
    "feature"
   ]
  },
  {
   "cell_type": "code",
   "execution_count": null,
   "id": "ceffa5d7-0407-41a0-bffa-2533a9c9e040",
   "metadata": {},
   "outputs": [],
   "source": [
    "X_train, X_test, y_train, y_test = train_test_split(feature, target, test_size=0.2, random_state=42)\n",
    "# Display the shapes of the splits\n",
    "print(\"Training Features (X_train):\", X_train.shape)\n",
    "print(\"Testing Features (X_test):\", X_test.shape)\n",
    "print(\"Training Target (y_train):\", y_train.shape)\n",
    "print(\"Testing Target (y_test):\", y_test.shape)"
   ]
  },
  {
   "cell_type": "code",
   "execution_count": null,
   "id": "612d4bf9-4147-4b59-97ce-56ad6168166a",
   "metadata": {},
   "outputs": [],
   "source": [
    "svc = SVC(C=1.0, kernel='linear', gamma=0.2) \n",
    "svc.fit(X_train,y_train)\n",
    "y_pred=svc.predict(X_test)\n",
    "accuracy_score(y_test,y_pred)"
   ]
  },
  {
   "cell_type": "code",
   "execution_count": null,
   "id": "08090341-2ef5-454c-81f8-ba23c63ecd84",
   "metadata": {},
   "outputs": [],
   "source": [
    "print(classification_report(y_test,y_pred))"
   ]
  },
  {
   "cell_type": "code",
   "execution_count": null,
   "id": "99141cd5-6e26-4c39-b550-ce63855bb183",
   "metadata": {},
   "outputs": [],
   "source": [
    "params={'C': [1,2,3,4,5,6,7,8], 'kernel': ['rtb', 'linner', 'sigmoid', 'poly'], 'gamma': [0.1, 0.2, 0.3,0.4]}\n",
    "GridSearchCV(svc,params)"
   ]
  },
  {
   "cell_type": "code",
   "execution_count": null,
   "id": "dd691dfb-f666-4706-9950-55a364c73d58",
   "metadata": {},
   "outputs": [],
   "source": [
    "grid_search = GridSearchCV(estimator=svm, param_grid=params, cv=5, n_jobs=-1, verbose=2)\n",
    "\n",
    "grid_search.fit(X_train, y_train)"
   ]
  },
  {
   "cell_type": "code",
   "execution_count": null,
   "id": "93f840f9-1fd5-4309-9b5c-be0094570a30",
   "metadata": {},
   "outputs": [],
   "source": [
    "print(f\"Best hyperparameters: {grid_search.best_params_}\")"
   ]
  },
  {
   "cell_type": "code",
   "execution_count": null,
   "id": "b84294cd-9228-48e9-ab98-55caf80093ac",
   "metadata": {},
   "outputs": [],
   "source": [
    "cm = confusion_matrix(y_test, y_pred)\n",
    "\n",
    "# Plotting confusion matrix\n",
    "plt.figure(figsize=(8, 6))\n",
    "sns.heatmap(cm, annot=True, fmt=\"d\", cmap=\"Blues\", xticklabels=iris.target_names, yticklabels=iris.target_names)\n",
    "plt.title(\"Confusion Matrix\")\n",
    "plt.xlabel('Predicted Labels')\n",
    "plt.ylabel('True Labels')\n",
    "plt.show()\n"
   ]
  },
  {
   "cell_type": "code",
   "execution_count": null,
   "id": "3c216213-bd71-4ce0-9600-cf61a351e1c1",
   "metadata": {},
   "outputs": [],
   "source": []
  }
 ],
 "metadata": {
  "kernelspec": {
   "display_name": "Python 3 (ipykernel)",
   "language": "python",
   "name": "python3"
  },
  "language_info": {
   "codemirror_mode": {
    "name": "ipython",
    "version": 3
   },
   "file_extension": ".py",
   "mimetype": "text/x-python",
   "name": "python",
   "nbconvert_exporter": "python",
   "pygments_lexer": "ipython3",
   "version": "3.11.7"
  }
 },
 "nbformat": 4,
 "nbformat_minor": 5
}
