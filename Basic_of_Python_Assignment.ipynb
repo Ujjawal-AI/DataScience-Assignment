{
 "cells": [
  {
   "cell_type": "code",
   "execution_count": 1,
   "id": "02580818-a56a-4c17-819e-312b164ca17e",
   "metadata": {},
   "outputs": [],
   "source": [
    "##Exercise 1: Prime Numbers\n"
   ]
  },
  {
   "cell_type": "code",
   "execution_count": 22,
   "id": "046876c0-2df0-4292-8cf2-2e44a842a6fe",
   "metadata": {},
   "outputs": [
    {
     "name": "stdout",
     "output_type": "stream",
     "text": [
      "not prime\n"
     ]
    }
   ],
   "source": [
    "count =0\n",
    "n = 8\n",
    "for i in range(2,n):\n",
    "    if n % i == 0:\n",
    "      count = count + 1 \n",
    "if count > 0:\n",
    "  print(\"not prime\")\n",
    "else:\n",
    "  print(\"prime number\")\n",
    "   \n"
   ]
  },
  {
   "cell_type": "code",
   "execution_count": 23,
   "id": "ec4a6def-2209-456c-b5f4-6584f1d7b27e",
   "metadata": {},
   "outputs": [],
   "source": [
    "##Exercise 2: Product of Random Numbers\n"
   ]
  },
  {
   "cell_type": "code",
   "execution_count": 1,
   "id": "fe484a3e-ba0f-4a01-a2c2-157c9ae8b6c1",
   "metadata": {},
   "outputs": [
    {
     "name": "stdin",
     "output_type": "stream",
     "text": [
      "What is the product of 3 and 7? 21\n"
     ]
    },
    {
     "name": "stdout",
     "output_type": "stream",
     "text": [
      "Congratulations! Your answer is correct.\n"
     ]
    }
   ],
   "source": [
    "import random\n",
    "def generate_num():\n",
    "    num1 = random.randint(1,5)\n",
    "    num2 = random.randint(6,10)\n",
    "    return num1, num2\n",
    "\n",
    "num1, num2 = generate_num()\n",
    "product_of_random_num = num1 *num2\n",
    "user_input = int(input(f\"What is the product of {num1} and {num2}?\"))\n",
    "\n",
    "if user_input== product_of_random_num:\n",
    "        print(\"Congratulations! Your answer is correct.\")\n",
    "else:\n",
    "        print(f\"Sorry, the correct answer is {product_of_random_num}. Try again next time.\")\n",
    "\n",
    "\n"
   ]
  },
  {
   "cell_type": "code",
   "execution_count": 2,
   "id": "75b4297f-179d-416e-b07d-0682f5db38e7",
   "metadata": {},
   "outputs": [],
   "source": [
    "##Exercise 3: square of even and odd number"
   ]
  },
  {
   "cell_type": "code",
   "execution_count": 16,
   "id": "7c4ab4ed-4f76-4b0b-8d98-7b920316f841",
   "metadata": {},
   "outputs": [
    {
     "name": "stdout",
     "output_type": "stream",
     "text": [
      "How many number square root you want to find out either from odd or even\n"
     ]
    },
    {
     "name": "stdin",
     "output_type": "stream",
     "text": [
      " 2\n"
     ]
    },
    {
     "name": "stdout",
     "output_type": "stream",
     "text": [
      "enter the number of your choice\n"
     ]
    },
    {
     "name": "stdin",
     "output_type": "stream",
     "text": [
      "enter the number 1 112\n",
      "enter the number 2 113\n"
     ]
    },
    {
     "name": "stdout",
     "output_type": "stream",
     "text": [
      "you have entered even number and square root is 12544\n",
      "you have entered odd number and square root is 12769\n"
     ]
    }
   ],
   "source": [
    "print(\"How many number square root you want to find out either from odd or even\")\n",
    "user_input = int(input())\n",
    "print(\"enter the number of your choice\")\n",
    "inputs=[]\n",
    "for i in range(user_input):\n",
    "    c= input(f\"enter the number {i+1}\")\n",
    "    inputs.append(c)\n",
    "    int_numbers = list(map(int, inputs))\n",
    "for i in int_numbers:\n",
    "    if i >=100 and i <=200:\n",
    "        if i%2==0:\n",
    "            a = i * i\n",
    "            print(f\"you have entered even number and square root is {a}\")\n",
    "        else:\n",
    "            b= i * i\n",
    "            print(f\"you have entered odd number and square root is {b}\")\n",
    "    else:\n",
    "        print(\"your number is not in range of 100 to 200\")"
   ]
  },
  {
   "cell_type": "code",
   "execution_count": 1,
   "id": "2ed903d1-28ba-4fbe-8587-805bbfa1210f",
   "metadata": {},
   "outputs": [],
   "source": [
    "##Exercise 4: Word counter"
   ]
  },
  {
   "cell_type": "code",
   "execution_count": 47,
   "id": "5391e47e-58fc-42a8-90bb-81d396b94a65",
   "metadata": {},
   "outputs": [
    {
     "name": "stdout",
     "output_type": "stream",
     "text": [
      "{'This': 2, 'is': 1, 'a': 1, 'sample': 1, 'text.': 1, 'text': 1, 'will': 1, 'be': 1, 'used': 1, 'to': 1, 'demonstrate': 1, 'the': 1, 'word': 1, 'counter.': 1}\n"
     ]
    }
   ],
   "source": [
    "def word_count(user_string):\n",
    "    #user_string = str(input(f\"Write any sentence\"))\n",
    "    words = user_string.split()\n",
    "    counts = dict()\n",
    "\n",
    "    for word in words:\n",
    "        if word in counts:\n",
    "            counts[word] += 1\n",
    "        else:\n",
    "            counts[word] =1\n",
    "    return counts\n",
    "    \n",
    "print(word_count('This is a sample text. This text will be used to demonstrate the word counter.'))\n",
    " \n",
    "\n"
   ]
  },
  {
   "cell_type": "code",
   "execution_count": 65,
   "id": "05fa4cb9-0c9d-4175-8741-cc7c1c3f8375",
   "metadata": {},
   "outputs": [
    {
     "name": "stdout",
     "output_type": "stream",
     "text": [
      "hi is not paliendrome\n"
     ]
    }
   ],
   "source": [
    "##Exercise 5: Check for Palindrome\n",
    "\n",
    "orginal = \"hi\"\n",
    "rev=''\n",
    "for i in range(len(orginal) - 1, -1, -1):\n",
    "    rev= rev+ orginal[i]\n",
    "\n",
    "if orginal == rev:\n",
    "    print(f\"{orginal} is paliendrome\")\n",
    "else:\n",
    "    print(f\"{orginal} is not paliendrome\")\n"
   ]
  },
  {
   "cell_type": "code",
   "execution_count": null,
   "id": "1297fd0f-030f-4c90-9edc-c11f5b2ca81d",
   "metadata": {},
   "outputs": [],
   "source": []
  }
 ],
 "metadata": {
  "kernelspec": {
   "display_name": "Python 3 (ipykernel)",
   "language": "python",
   "name": "python3"
  },
  "language_info": {
   "codemirror_mode": {
    "name": "ipython",
    "version": 3
   },
   "file_extension": ".py",
   "mimetype": "text/x-python",
   "name": "python",
   "nbconvert_exporter": "python",
   "pygments_lexer": "ipython3",
   "version": "3.11.7"
  }
 },
 "nbformat": 4,
 "nbformat_minor": 5
}
