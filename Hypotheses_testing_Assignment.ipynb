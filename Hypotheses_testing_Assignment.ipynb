{
 "cells": [
  {
   "cell_type": "code",
   "execution_count": null,
   "id": "bf499f73-f98e-4318-b47a-c78bf9198134",
   "metadata": {},
   "outputs": [],
   "source": [
    "## 1. Hypotheses Statement\n",
    "# Let μ be the true mean weekly cost.\n",
    "# Null Hypothesis (H₀): μ = 1000 + 5×600 = Rs. 4,000\n",
    "# Alternative Hypothesis (H₁): μ > 4,000\n",
    "# 2. Calculate the Test Statistic\n",
    "# We use the formula for the Z-test statistic (since population std dev is derived from model): Z= x(bar)−μ / σ/ sq root n. Determine the Critical Value\n",
    "# At significance level α = 0.05 for a right-tailed test, the critical Z-value is:\n",
    "#    𝑍 critical =1.645"
   ]
  },
  {
   "cell_type": "code",
   "execution_count": 1,
   "id": "b3ace6a6-fa67-4ea6-94bb-3785f530e251",
   "metadata": {},
   "outputs": [
    {
     "name": "stdout",
     "output_type": "stream",
     "text": [
      "Z-Statistic: -38.0\n",
      "Z-Critical (at 0.05 level): 1.6448536269514722\n",
      "Decision: Fail to reject the null hypothesis\n",
      "Conclusion:\n",
      "There is insufficient evidence to support the restaurant owners' claim.\n"
     ]
    }
   ],
   "source": [
    "# hypothesis_testing.py\n",
    "\n",
    "import math\n",
    "from scipy.stats import norm\n",
    "\n",
    "# Step 1: Given data\n",
    "sample_mean = 3050\n",
    "model_mean = 1000 + 5 * 600  # Expected mean = Rs. 4000\n",
    "std_dev_units = 25\n",
    "cost_per_unit = 5\n",
    "sigma = cost_per_unit * std_dev_units  # 125\n",
    "n = 25\n",
    "\n",
    "# Step 2: Calculate the test statistic\n",
    "standard_error = sigma / math.sqrt(n)\n",
    "z_statistic = (sample_mean - model_mean) / standard_error\n",
    "\n",
    "# Step 3: Determine the critical value\n",
    "alpha = 0.05\n",
    "z_critical = norm.ppf(1 - alpha)  # One-tailed test\n",
    "\n",
    "# Step 4: Decision\n",
    "print(\"Z-Statistic:\", z_statistic)\n",
    "print(\"Z-Critical (at 0.05 level):\", z_critical)\n",
    "\n",
    "if z_statistic > z_critical:\n",
    "    decision = \"Reject the null hypothesis\"\n",
    "else:\n",
    "    decision = \"Fail to reject the null hypothesis\"\n",
    "\n",
    "# Step 5: Conclusion\n",
    "print(\"Decision:\", decision)\n",
    "print(\"Conclusion:\")\n",
    "if decision == \"Reject the null hypothesis\":\n",
    "    print(\"There is strong evidence to support the restaurant owners' claim that the weekly operating costs are higher than the model suggests.\")\n",
    "else:\n",
    "    print(\"There is insufficient evidence to support the restaurant owners' claim.\")\n"
   ]
  },
  {
   "cell_type": "code",
   "execution_count": null,
   "id": "a4d25339-095f-4714-bc7e-68db9430a697",
   "metadata": {},
   "outputs": [],
   "source": [
    "## Summary\n",
    "##This test checks whether the observed weekly costs (Rs. 3,050) are significantly higher than the theoretical model suggests (Rs. 4,000).\n",
    "##From the calculation, since Rs. 3,050 < Rs. 4,000, you will not reject the null—but this is counter to the expected \"costs are higher\" claim, which suggests there might be a typo or error in the sample mean provided."
   ]
  }
 ],
 "metadata": {
  "kernelspec": {
   "display_name": "Python 3 (ipykernel)",
   "language": "python",
   "name": "python3"
  },
  "language_info": {
   "codemirror_mode": {
    "name": "ipython",
    "version": 3
   },
   "file_extension": ".py",
   "mimetype": "text/x-python",
   "name": "python",
   "nbconvert_exporter": "python",
   "pygments_lexer": "ipython3",
   "version": "3.11.7"
  }
 },
 "nbformat": 4,
 "nbformat_minor": 5
}
