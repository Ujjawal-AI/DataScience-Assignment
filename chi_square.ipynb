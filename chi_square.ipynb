{
 "cells": [
  {
   "cell_type": "code",
   "execution_count": 2,
   "id": "02120832-2c56-48cd-9738-09652c19e07c",
   "metadata": {},
   "outputs": [
    {
     "name": "stdout",
     "output_type": "stream",
     "text": [
      "Observed Data:\n",
      "                  Smart Thermostat  Smart Light\n",
      "Very Satisfied                  50           70\n",
      "Satisfied                       80          100\n",
      "Neutral                         60           90\n",
      "Unsatisfied                     30           50\n",
      "Very Unsatisfied                20           50\n",
      "\n",
      "Expected Frequencies:\n",
      "                  Smart Thermostat  Smart Light\n",
      "Very Satisfied                48.0         72.0\n",
      "Satisfied                     72.0        108.0\n",
      "Neutral                       60.0         90.0\n",
      "Unsatisfied                   32.0         48.0\n",
      "Very Unsatisfied              28.0         42.0\n",
      "\n",
      "Chi-Square Statistic: 5.6382\n",
      "Degrees of Freedom: 4\n",
      "Critical Value at alpha=0.05: 9.4877\n",
      "P-value: 0.2278\n",
      "\n",
      "Decision: Fail to reject the null hypothesis.\n",
      "Conclusion: There is no significant association between device type and customer satisfaction.\n"
     ]
    }
   ],
   "source": [
    "# Chi-Square Test for Independence\n",
    "# Association between Device Type and Customer Satisfaction\n",
    "\n",
    "import numpy as np\n",
    "import pandas as pd\n",
    "from scipy.stats import chi2_contingency, chi2\n",
    "\n",
    "# Step 1: State the Hypotheses\n",
    "# H0: There is no association between device type and customer satisfaction.\n",
    "# H1: There is an association between device type and customer satisfaction.\n",
    "\n",
    "# Step 2: Input Data and Compute the Chi-Square Statistic\n",
    "# Contingency Table\n",
    "data = np.array([\n",
    "    [50, 70],    # Very Satisfied\n",
    "    [80, 100],   # Satisfied\n",
    "    [60, 90],    # Neutral\n",
    "    [30, 50],    # Unsatisfied\n",
    "    [20, 50]     # Very Unsatisfied\n",
    "])\n",
    "\n",
    "# Create a DataFrame for clarity\n",
    "satisfaction_levels = [\"Very Satisfied\", \"Satisfied\", \"Neutral\", \"Unsatisfied\", \"Very Unsatisfied\"]\n",
    "devices = [\"Smart Thermostat\", \"Smart Light\"]\n",
    "df = pd.DataFrame(data, columns=devices, index=satisfaction_levels)\n",
    "\n",
    "# Perform Chi-Square Test\n",
    "chi2_stat, p_val, dof, expected = chi2_contingency(df)\n",
    "\n",
    "# Step 3: Determine the Critical Value\n",
    "alpha = 0.05\n",
    "critical_value = chi2.ppf(q=1 - alpha, df=dof)\n",
    "\n",
    "# Step 4: Make a Decision\n",
    "print(\"Observed Data:\")\n",
    "print(df)\n",
    "print(\"\\nExpected Frequencies:\")\n",
    "print(pd.DataFrame(expected, columns=devices, index=satisfaction_levels))\n",
    "print(f\"\\nChi-Square Statistic: {chi2_stat:.4f}\")\n",
    "print(f\"Degrees of Freedom: {dof}\")\n",
    "print(f\"Critical Value at alpha=0.05: {critical_value:.4f}\")\n",
    "print(f\"P-value: {p_val:.4f}\")\n",
    "\n",
    "if chi2_stat > critical_value:\n",
    "    print(\"\\nDecision: Reject the null hypothesis.\\nConclusion: There is a significant association between device type and customer satisfaction.\")\n",
    "else:\n",
    "    print(\"\\nDecision: Fail to reject the null hypothesis.\\nConclusion: There is no significant association between device type and customer satisfaction.\")\n"
   ]
  },
  {
   "cell_type": "code",
   "execution_count": null,
   "id": "7bb36b30-b9e8-4586-9e33-9fab82fa5d8a",
   "metadata": {},
   "outputs": [],
   "source": []
  }
 ],
 "metadata": {
  "kernelspec": {
   "display_name": "Python 3 (ipykernel)",
   "language": "python",
   "name": "python3"
  },
  "language_info": {
   "codemirror_mode": {
    "name": "ipython",
    "version": 3
   },
   "file_extension": ".py",
   "mimetype": "text/x-python",
   "name": "python",
   "nbconvert_exporter": "python",
   "pygments_lexer": "ipython3",
   "version": "3.11.7"
  }
 },
 "nbformat": 4,
 "nbformat_minor": 5
}
