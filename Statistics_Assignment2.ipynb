{
 "cells": [
  {
   "cell_type": "code",
   "execution_count": 4,
   "id": "28bb2fcf-d054-426b-a6ed-0dcb0863dd8a",
   "metadata": {},
   "outputs": [
    {
     "name": "stdout",
     "output_type": "stream",
     "text": [
      "1.0952316686385626\n",
      "1.3821016646947706\n"
     ]
    }
   ],
   "source": [
    "#A total of 15 print-heads were randomly selected and tested until failure. The durability of each print-head (in millions of characters) was recorded as follows:\n",
    "#1.13, 1.55, 1.43, 0.92, 1.25, 1.36, 1.32, 0.85, 1.07, 1.48, 1.20, 1.33, 1.18, 1.22, 1.29\n",
    "#Assignment Tasks\n",
    "#a. Build 99% Confidence Interval Using Sample Standard Deviation\n",
    "#Assuming the sample is representative of the population, construct a 99% confidence interval for the mean number of characters printed before the print-head fails using the sample standard deviation. Explain the steps you take and the rationale behind using the t-distribution for this task.\n",
    "\n",
    "\n",
    "#Given\n",
    "#sample size =15, degree_of_freedon = 15-1 = 14, CI = 99%\n",
    "#formula = (x_bar - pop_mean)/(sample_SD/under_roor(same_Size))\n",
    "\n",
    "import numpy as np\n",
    "from scipy import stats\n",
    "\n",
    "# Sample_Data\n",
    "data = [1.13, 1.55, 1.43, 0.92, 1.25, 1.36, 1.32, 0.85, 1.07, 1.48, 1.20, 1.33, 1.18, 1.22, 1.29]\n",
    "\n",
    "# Sample_size\n",
    "n = len(data)\n",
    "\n",
    "# Sample mean (X_bar)\n",
    "x_bar = np.mean(data)\n",
    "\n",
    "# Sample_SD\n",
    "sample_std_dev = np.std(data)\n",
    "\n",
    "# Degrees of freedom\n",
    "df = n - 1\n",
    "\n",
    "# Critical value from t-distribution for 99% confidence interval\n",
    "t_critical = stats.t.ppf(0.995, df)  \n",
    "\n",
    "# Standard error of the mean\n",
    "se = sample_std_dev / np.sqrt(n)\n",
    "\n",
    "# Margin of error\n",
    "moe = t_critical * se\n",
    "\n",
    "# Confidence interval\n",
    "ci_lower = x_bar - moe\n",
    "ci_upper = x_bar + moe\n",
    "print(ci_lower)\n",
    "print(ci_upper)\n"
   ]
  },
  {
   "cell_type": "code",
   "execution_count": 5,
   "id": "15f651e6-c6fb-4ed7-80f1-b8cf55d6914e",
   "metadata": {},
   "outputs": [
    {
     "name": "stdout",
     "output_type": "stream",
     "text": [
      "(1.1056514133957607, 1.3716819199375725)\n"
     ]
    }
   ],
   "source": [
    "# b. Build 99% Confidence Interval Using Known Population Standard Deviation\n",
    "#If it were known that the population standard deviation is 0.2 million characters, construct a 99% confidence interval for the mean number of characters printed before failure.\n",
    "#Given: population SD(sigma) = 0.2, n= 15, sample_std_dev, data, \n",
    "\n",
    "import numpy as np\n",
    "from scipy import stats\n",
    "\n",
    "data = [1.13, 1.55, 1.43, 0.92, 1.25, 1.36, 1.32, 0.85, 1.07, 1.48, 1.20, 1.33, 1.18, 1.22, 1.29]\n",
    "population_std_dev = 0.2\n",
    "n=15\n",
    "confidence_level = 0.99\n",
    "sample_mean = np.mean(data)\n",
    "\n",
    "# Z-score for 99% confidence interval\n",
    "z_score = stats.norm.ppf((1 + confidence_level) / 2)\n",
    "\n",
    "margin_of_error = z_score * (population_std_dev / np.sqrt(n))\n",
    "confidence_interval = (sample_mean - margin_of_error, sample_mean + margin_of_error)\n",
    "print(confidence_interval)\n"
   ]
  },
  {
   "cell_type": "code",
   "execution_count": null,
   "id": "7cf715ed-6ec9-487a-927c-8746b213d8b0",
   "metadata": {},
   "outputs": [],
   "source": []
  }
 ],
 "metadata": {
  "kernelspec": {
   "display_name": "Python 3 (ipykernel)",
   "language": "python",
   "name": "python3"
  },
  "language_info": {
   "codemirror_mode": {
    "name": "ipython",
    "version": 3
   },
   "file_extension": ".py",
   "mimetype": "text/x-python",
   "name": "python",
   "nbconvert_exporter": "python",
   "pygments_lexer": "ipython3",
   "version": "3.11.7"
  }
 },
 "nbformat": 4,
 "nbformat_minor": 5
}
